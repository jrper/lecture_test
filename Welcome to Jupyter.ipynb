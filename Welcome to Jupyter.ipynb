{
 "cells": [
  {
   "cell_type": "markdown",
   "metadata": {},
   "source": [
    "# An Introduction to Jupyter Notebooks"
   ]
  },
  {
   "cell_type": "markdown",
   "metadata": {
    "toc": true
   },
   "source": [
    "<h1>Table of Contents<span class=\"tocSkip\"></span></h1>\n",
    "<div class=\"toc\"><ul class=\"toc-item\"><li><span><a href=\"#Your-first-Jupyter-notebook\" data-toc-modified-id=\"Your-first-Jupyter-notebook-1\"><span class=\"toc-item-num\">1&nbsp;&nbsp;</span>Your first Jupyter notebook</a></span><ul class=\"toc-item\"><li><span><a href=\"#Welcome-to-Jupyter\" data-toc-modified-id=\"Welcome-to-Jupyter-1.1\"><span class=\"toc-item-num\">1.1&nbsp;&nbsp;</span>Welcome to Jupyter</a></span></li><li><span><a href=\"#Text-Cells\" data-toc-modified-id=\"Text-Cells-1.2\"><span class=\"toc-item-num\">1.2&nbsp;&nbsp;</span>Text Cells</a></span></li><li><span><a href=\"#Code-Cells\" data-toc-modified-id=\"Code-Cells-1.3\"><span class=\"toc-item-num\">1.3&nbsp;&nbsp;</span>Code Cells</a></span></li><li><span><a href=\"#The-Jupyter-kernel\" data-toc-modified-id=\"The-Jupyter-kernel-1.4\"><span class=\"toc-item-num\">1.4&nbsp;&nbsp;</span>The Jupyter kernel</a></span></li><li><span><a href=\"#Conventions-in-the-lectures-for-ACSE1:\" data-toc-modified-id=\"Conventions-in-the-lectures-for-ACSE1:-1.5\"><span class=\"toc-item-num\">1.5&nbsp;&nbsp;</span>Conventions in the lectures for ACSE1:</a></span><ul class=\"toc-item\"><li><span><a href=\"#Exercise\" data-toc-modified-id=\"Exercise-1.5.1\"><span class=\"toc-item-num\">1.5.1&nbsp;&nbsp;</span>Exercise</a></span></li><li><span><a href=\"#Information\" data-toc-modified-id=\"Information-1.5.2\"><span class=\"toc-item-num\">1.5.2&nbsp;&nbsp;</span>Information</a></span></li><li><span><a href=\"#Warning\" data-toc-modified-id=\"Warning-1.5.3\"><span class=\"toc-item-num\">1.5.3&nbsp;&nbsp;</span>Warning</a></span></li></ul></li><li><span><a href=\"#The-Jupyter-toolbar\" data-toc-modified-id=\"The-Jupyter-toolbar-1.6\"><span class=\"toc-item-num\">1.6&nbsp;&nbsp;</span>The Jupyter toolbar</a></span></li></ul></li><li><span><a href=\"#Over-to-you\" data-toc-modified-id=\"Over-to-you-2\"><span class=\"toc-item-num\">2&nbsp;&nbsp;</span>Over to you</a></span><ul class=\"toc-item\"><li><ul class=\"toc-item\"><li><span><a href=\"#Exercise-One\" data-toc-modified-id=\"Exercise-One-2.0.1\"><span class=\"toc-item-num\">2.0.1&nbsp;&nbsp;</span>Exercise One</a></span></li></ul></li></ul></li><li><span><a href=\"#Obtaining-and-running-this-notebook.\" data-toc-modified-id=\"Obtaining-and-running-this-notebook.-3\"><span class=\"toc-item-num\">3&nbsp;&nbsp;</span>Obtaining and running this notebook.</a></span></li></ul></div>"
   ]
  },
  {
   "cell_type": "markdown",
   "metadata": {},
   "source": [
    "## Your first Jupyter notebook\n",
    "\n",
    "### Welcome to Jupyter"
   ]
  },
  {
   "cell_type": "markdown",
   "metadata": {},
   "source": [
    "This is a Jupyter notebook. Jupyter notebooks provide a web-browser based interface to present, run and edit computer code. Each notebook consists of series of blocks called cells. These cells can be\n",
    "\n",
    " - text cells, or\n",
    " - code cells.\n",
    " \n",
    "The active cell will have a frame around it and a coloured bar to the far left. That bar will be blue if the cell is ready to run (\"command mode\") or green if the cell is being edited (\"edit mode\").\n",
    "\n",
    "### Text Cells\n",
    "\n",
    "Text cells are written using a text markup language called Markdown, which extends html to make it quicker and easier to write. When text cells are run, the markdown is processed and rendered on the page. They can contain links, images and most other stuff you would expect on a webpage, as well as easy typesetting for fairly complicated mathematical equations, such as Euler's identity,\n",
    "$$ \\exp(i\\pi) = -1 .$$\n",
    "\n",
    "### Code Cells\n",
    " \n",
    "Code cells can be recognized because they have something like \"In \\[3\\]:\" next to the input code. Before the cell is run for the first time, the square brackets are empty. The output from code cells can be text based or graphical.\n",
    "\n",
    "### The Jupyter kernel\n",
    "\n",
    "Behind the scenes, your Jupyter notebook is connected to a program called a _kernel_. It is the kernel which actually performs calculations when you ask it to, and which generates output. There are many different kernels available for Jupyter. During the course of ACSE1 you will learn about the shell kernel for _bash_ scripting and the Python kernel for general programming."
   ]
  },
  {
   "cell_type": "markdown",
   "metadata": {},
   "source": [
    "### Conventions in the lectures for ACSE1:\n",
    "\n",
    "There are several formatting scheme choices made in this course which you should look out for:\n",
    "\n",
    "\n",
    "- short code snippets within text cells are written like this: `print(\"Hi!\")`.\n",
    "- long code snippets within text cells (i.e. more than one line) are written like this:\n",
    "\n",
    "```python\n",
    "k=0\n",
    "for i in range(30):\n",
    "    print(\"The quick brown fox jumps over the lazy dog.\")\n",
    "    k += 2*i\n",
    "```\n",
    "(this is Python code, you will learn a lot more about Python later)\n",
    "- Instructions which need you to press a button on the keyboard are written like this for a single letter:<kbd>a</kbd> or like this if you need to hold one key and press another <kbd>ctrl+a</kbd>\n",
    "\n",
    "<div class=\"exercise\">\n",
    "    \n",
    "#### Exercise\n",
    "            \n",
    "This cell is an exercise for you to complete. \n",
    "If viewed on [msc-acse](), this will be placed in a blue box.   \n",
    "</div>\n",
    "<br>\n",
    "<div class=\"info\">\n",
    "    \n",
    "#### Information    \n",
    "\n",
    "This cell contains information which is useful, but not a vital part of the course material. If viewed on [msc-acse](), this will be placed in a yellow box.\n",
    "\n",
    "</div>\n",
    "\n",
    "<br>\n",
    "\n",
    "<div class=\"warn\">\n",
    "    \n",
    "#### Warning\n",
    "\n",
    "This cell indicates a warning message. It points out potential \"gotchas\" or dangerous outcomes. If viewed on [msc-acse](), this will be placed in a red box.\n",
    "</div>"
   ]
  },
  {
   "cell_type": "markdown",
   "metadata": {},
   "source": [
    "### The Jupyter toolbar\n",
    "\n",
    "Immediately above the main window you will find the Jupyter toolbar. This contains a number of useful shortcut buttons to execute common commands. For now the most important ones are \n",
    "\n",
    "<br>\n",
    "<br>\n",
    "\n",
    "<div class=\"btn-group\" id=\"save-notbook\"><button class=\"btn btn-default\" title=\"Save and Checkpoint\"><i class=\"fa-save fa\"></i></button></div> Save the current state of the notebook to disk <b>on the notebook server</b>. The keyboard shortcut is <kbd>ctrl+s</kbd> (<kbd>&#8984;+s</kbd> on Mac).\n",
    "\n",
    "<button class=\"btn btn-default\" title=\"move selected cells up\" data-jupyter-action=\"jupyter-notebook:move-cell-up\"><i class=\"fa-arrow-up fa\"></i></button> <button class=\"btn btn-default\" title=\"move selected cells down\" data-jupyter-action=\"jupyter-notebook:move-cell-down\"><i class=\"fa-arrow-down fa\"></i></button> The arrow keys move the active cell up and down. The same effect can be achieved by single clicking on the next cell, or using the keyboard arrow keys <kbd>&uarr;</kbd> and <kbd>&darr;</kbd>.\n",
    "\n",
    " <button class=\"btn btn-default\" title=\"Run\"><i class=\"fa-step-forward fa\"></i><span class=\"toolbar-btn-label\">Run</span></button> This causes the currently selected cell to execute. Text cells are re-rendered. Code cells have their input run in the kernel, and any output generated is shown below it. The next cell in sequence becomes live. The keyboard shortcut is <kbd>shift+enter</kbd>.\n",
    " \n",
    "<br>\n",
    "<br>\n",
    "\n",
    "<div class=\"info\">\n",
    "\n",
    "For completeness, we'll define the other buttons you'll see on msc-acse here. Note that other buttons may be visible on other systems:\n",
    "\n",
    "<br>\n",
    "\n",
    "<div class=\"btn-group\" id=\"insert_above_below\"><button class=\"btn btn-default\" title=\"insert cell below\" data-jupyter-action=\"jupyter-notebook:insert-cell-below\"><i class=\"fa-plus fa\"></i></button></div> Create a new cell below this one. The cell initially has its mode set as a code cell.\n",
    "\n",
    "___\n",
    "\n",
    "<button class=\"btn btn-default\" title=\"cut selected cells\" data-jupyter-action=\"jupyter-notebook:cut-cell\"><i class=\"fa-cut fa\"></i></button> cut out the selected cell and place its contents in the clipboard.\n",
    "\n",
    "<button class=\"btn btn-default\" title=\"cut selected cells\" data-jupyter-action=\"jupyter-notebook:cut-cell\"><i class=\"fa-copy fa\"></i></button> copy the selected cell to the clipboard.\n",
    "\n",
    "<button class=\"btn btn-default\" title=\"paste cells below\" data-jupyter-action=\"jupyter-notebook:paste-cell-below\"><i class=\"fa-paste fa\"></i></button> paste the cell contents of the clipboard below the currently active cell.\n",
    "\n",
    "___\n",
    "\n",
    " <button class=\"btn btn-default\"> <i class=\"fa-stop fa\"></i></button> This attempts to force stop the kernel running the code. Use if it appears the kernel has got irretrievably stuck.\n",
    " \n",
    " <button class=\"btn btn-default\"> <i class=\"fa-repeat fa\"></i></button> The restart button. This both stops and restarts the kernel. If something goes wrong behind the scenes, thing button will \"turn it off and on again\". Much of the time, this may fix the problem.\n",
    " \n",
    " <button class=\"btn btn-default\"> <i class=\"fa-forward fa\"></i></button> The \"restart and run all\" button. This restarts the kernel, and then runs every cell in order.\n",
    " \n",
    " ___\n",
    " \n",
    " <select id=\"cell_type\" class=\"form-control nbform\"><option value=\"code\">Code</option><option value=\"markdown\">Markdown</option><option value=\"raw\">Raw NBConvert</option><option value=\"heading\">Heading</option><option value=\"multiselect\" disabled=\"disabled\" style=\"display: none;\">-</option></select> Dropdown selector for the cell mode.\n",
    " \n",
    " \n",
    " <button class=\"btn btn-default\" title=\"open the command palette\" data-jupyter-action=\"jupyter-notebook:show-command-palette\"><i class=\"fa-keyboard-o fa\"></i></button> Show a search box of Jupyter commands.\n",
    " \n",
    "\n",
    "</div>"
   ]
  },
  {
   "cell_type": "markdown",
   "metadata": {},
   "source": [
    "## Over to you\n",
    "\n",
    "<br>\n",
    "\n",
    "<div class=exercise>\n",
    "\n",
    "#### Exercise One\n",
    "\n",
    "The code cell immediately below this one contains the Python command `print(\"Hello World!\")`. This command prints the contents of the brackets to output.\n",
    "\n",
    "1. Run the cell by making it the active cell (by clicking on it, or using the arrow keys), then run it using the _Run_ button, or <kbd>shift+enter</kbd> on your keyboard.\n",
    "2. Switch the code cell to edit mode by double clicking on it, or by selecting it and pressing the <kbd>enter</kbd> key, then modify it to say hello to you using your name, rather than the whole world.\n",
    "\n",
    "</div>"
   ]
  },
  {
   "cell_type": "code",
   "execution_count": 5,
   "metadata": {
    "scrolled": true
   },
   "outputs": [
    {
     "name": "stdout",
     "output_type": "stream",
     "text": [
      "Hello World!\n"
     ]
    }
   ],
   "source": [
    "print(\"Hello World!\")"
   ]
  },
  {
   "cell_type": "markdown",
   "metadata": {},
   "source": [
    "\n",
    "<div class=\"info\">\n",
    "    \n",
    "## Obtaining and running this notebook.\n",
    "\n",
    "Current students on the Imperial College ACSE MSc course can run this course can run this notebook on the Azure cluster for the course. Otherwise, the lecture materials may be downloaded from [github](https://github.com/jrper/ACSE1) or as a docker instance from [dockerhub](http://dockerhub/jrper/ACSE1). Users with docker installed can run\n",
    "\n",
    "```bash\n",
    "docker pull jrper/ACSE1\n",
    "docker volume create ACSE1\n",
    "```\n",
    "\n",
    "to download the lectures and then\n",
    "\n",
    "```bash\n",
    "docker run -p 8900:8000 --rm -it -v ACSE1:/ACSE1\n",
    "```\n",
    "to execute it. The link shown in your terminal may then be used in your browswer to connect.\n",
    "\n",
    "The lectures may also be viewed statically using [nbviewer]() or dynamically using binder. \n",
    "\n",
    "\n",
    "</div>"
   ]
  },
  {
   "cell_type": "code",
   "execution_count": null,
   "metadata": {},
   "outputs": [],
   "source": []
  }
 ],
 "metadata": {
  "kernelspec": {
   "display_name": "Python 3",
   "language": "python",
   "name": "python3"
  },
  "language_info": {
   "codemirror_mode": {
    "name": "ipython",
    "version": 3
   },
   "file_extension": ".py",
   "mimetype": "text/x-python",
   "name": "python",
   "nbconvert_exporter": "python",
   "pygments_lexer": "ipython3",
   "version": "3.5.2"
  },
  "toc": {
   "base_numbering": 1,
   "nav_menu": {},
   "number_sections": true,
   "sideBar": true,
   "skip_h1_title": true,
   "title_cell": "Table of Contents",
   "title_sidebar": "Contents",
   "toc_cell": true,
   "toc_position": {
    "height": "639px",
    "left": "389px",
    "top": "180px",
    "width": "165px"
   },
   "toc_section_display": true,
   "toc_window_display": false
  }
 },
 "nbformat": 4,
 "nbformat_minor": 2
}
